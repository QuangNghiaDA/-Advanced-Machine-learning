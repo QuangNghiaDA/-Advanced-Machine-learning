{
  "cells": [
    {
      "cell_type": "markdown",
      "source": [
        "Lab 2\n",
        "\n",
        "MSSV: 19110392\n",
        "\n",
        "Họ tên: Trần Quang Nghĩa\n",
        "\n",
        "Môn: Máy học nâng cao"
      ],
      "metadata": {
        "id": "rKKLVjlIy582"
      }
    },
    {
      "cell_type": "code",
      "execution_count": 2,
      "metadata": {
        "id": "jRwN3IFq3YWl"
      },
      "outputs": [],
      "source": [
        "#import \n",
        "import keras\n",
        "from keras import backend as k\n",
        "import tensorflow as tf\n",
        "import numpy as np"
      ]
    },
    {
      "cell_type": "code",
      "execution_count": 3,
      "metadata": {
        "id": "Brjm-hoz3SVB"
      },
      "outputs": [],
      "source": [
        "# lamda\n",
        "regularizer=0.0005"
      ]
    },
    {
      "cell_type": "code",
      "source": [
        "# CIFAR10 dataset\n",
        "from keras.datasets import cifar10\n",
        "\n",
        "(X_train,y_train),(X_test,y_test) = cifar10.load_data()\n",
        "print(\"Kích thước của X_train là: \",X_train.shape)\n",
        "print(\"Kích thước của y_train là: \",y_train.shape)\n",
        "print(\"Kích thước của X_test là: \",X_test.shape)\n",
        "print(\"Kích thước của y_test là: \",y_test.shape)"
      ],
      "metadata": {
        "colab": {
          "base_uri": "https://localhost:8080/"
        },
        "id": "9LKSWx91s9w-",
        "outputId": "cfe6a001-4c6a-404e-b0f9-a218f3ae8f27"
      },
      "execution_count": 5,
      "outputs": [
        {
          "output_type": "stream",
          "name": "stdout",
          "text": [
            "Kích thước của X_train là:  (50000, 32, 32, 3)\n",
            "Kích thước của y_train là:  (50000, 1)\n",
            "Kích thước của X_test là:  (10000, 32, 32, 3)\n",
            "Kích thước của y_test là:  (10000, 1)\n"
          ]
        }
      ]
    },
    {
      "cell_type": "code",
      "source": [
        "import cv2\n",
        "def resize_img(img):\n",
        "    numberOfImage = img.shape[0]\n",
        "    new_array = np.zeros((numberOfImage, 48,48,3))\n",
        "    for i in range(numberOfImage):\n",
        "        new_array[i] = cv2.resize(img[i,:,:,:],(48,48))\n",
        "    return new_array"
      ],
      "metadata": {
        "id": "u7pHEMlesNXE"
      },
      "execution_count": 7,
      "outputs": []
    },
    {
      "cell_type": "code",
      "source": [
        "X_train = resize_img(X_train)\n",
        "X_test = resize_img(X_test)\n",
        "print(\"Kích thước mới của X_train là: \",X_train.shape)\n",
        "print(\"Kích thước mới của X_test là: \",X_test.shape)"
      ],
      "metadata": {
        "colab": {
          "base_uri": "https://localhost:8080/"
        },
        "id": "lbab0kKzsQlI",
        "outputId": "77db4557-4170-4b3f-f8b3-0e3e84b05753"
      },
      "execution_count": 8,
      "outputs": [
        {
          "output_type": "stream",
          "name": "stdout",
          "text": [
            "Kích thước mới của X_train là:  (50000, 48, 48, 3)\n",
            "Kích thước mới của X_test là:  (10000, 48, 48, 3)\n"
          ]
        }
      ]
    },
    {
      "cell_type": "code",
      "source": [
        "# One hot label encoding\n",
        "from keras.utils import to_categorical\n",
        "y_train = to_categorical(y_train,num_classes=10)\n",
        "y_test = to_categorical(y_test,num_classes=10)\n",
        "\n",
        "print(\"Kích thước mới của y_train là: \",y_train.shape)\n",
        "print(\"Kích thước mới của y_test là: \",y_test.shape)"
      ],
      "metadata": {
        "colab": {
          "base_uri": "https://localhost:8080/"
        },
        "id": "nahMdS6CtPLg",
        "outputId": "b4cc2590-ab5c-49d7-d024-62e4166a7e5b"
      },
      "execution_count": 9,
      "outputs": [
        {
          "output_type": "stream",
          "name": "stdout",
          "text": [
            "Kích thước mới của y_train là:  (50000, 10)\n",
            "Kích thước mới của y_test là:  (10000, 10)\n"
          ]
        }
      ]
    },
    {
      "cell_type": "code",
      "execution_count": 10,
      "metadata": {
        "colab": {
          "base_uri": "https://localhost:8080/"
        },
        "id": "d6ucQfnM0xIP",
        "outputId": "f193e511-3c77-4da8-ee1b-8c272b3071b0"
      },
      "outputs": [
        {
          "output_type": "stream",
          "name": "stdout",
          "text": [
            "Model: \"vgg19\"\n",
            "_________________________________________________________________\n",
            " Layer (type)                Output Shape              Param #   \n",
            "=================================================================\n",
            " input_1 (InputLayer)        [(None, 48, 48, 3)]       0         \n",
            "                                                                 \n",
            " block1_conv1 (Conv2D)       (None, 48, 48, 64)        1792      \n",
            "                                                                 \n",
            " block1_conv2 (Conv2D)       (None, 48, 48, 64)        36928     \n",
            "                                                                 \n",
            " block1_pool (MaxPooling2D)  (None, 24, 24, 64)        0         \n",
            "                                                                 \n",
            " block2_conv1 (Conv2D)       (None, 24, 24, 128)       73856     \n",
            "                                                                 \n",
            " block2_conv2 (Conv2D)       (None, 24, 24, 128)       147584    \n",
            "                                                                 \n",
            " block2_pool (MaxPooling2D)  (None, 12, 12, 128)       0         \n",
            "                                                                 \n",
            " block3_conv1 (Conv2D)       (None, 12, 12, 256)       295168    \n",
            "                                                                 \n",
            " block3_conv2 (Conv2D)       (None, 12, 12, 256)       590080    \n",
            "                                                                 \n",
            " block3_conv3 (Conv2D)       (None, 12, 12, 256)       590080    \n",
            "                                                                 \n",
            " block3_conv4 (Conv2D)       (None, 12, 12, 256)       590080    \n",
            "                                                                 \n",
            " block3_pool (MaxPooling2D)  (None, 6, 6, 256)         0         \n",
            "                                                                 \n",
            " block4_conv1 (Conv2D)       (None, 6, 6, 512)         1180160   \n",
            "                                                                 \n",
            " block4_conv2 (Conv2D)       (None, 6, 6, 512)         2359808   \n",
            "                                                                 \n",
            " block4_conv3 (Conv2D)       (None, 6, 6, 512)         2359808   \n",
            "                                                                 \n",
            " block4_conv4 (Conv2D)       (None, 6, 6, 512)         2359808   \n",
            "                                                                 \n",
            " block4_pool (MaxPooling2D)  (None, 3, 3, 512)         0         \n",
            "                                                                 \n",
            " block5_conv1 (Conv2D)       (None, 3, 3, 512)         2359808   \n",
            "                                                                 \n",
            " block5_conv2 (Conv2D)       (None, 3, 3, 512)         2359808   \n",
            "                                                                 \n",
            " block5_conv3 (Conv2D)       (None, 3, 3, 512)         2359808   \n",
            "                                                                 \n",
            " block5_conv4 (Conv2D)       (None, 3, 3, 512)         2359808   \n",
            "                                                                 \n",
            " block5_pool (MaxPooling2D)  (None, 1, 1, 512)         0         \n",
            "                                                                 \n",
            "=================================================================\n",
            "Total params: 20,024,384\n",
            "Trainable params: 20,024,384\n",
            "Non-trainable params: 0\n",
            "_________________________________________________________________\n"
          ]
        }
      ],
      "source": [
        "# VGG19 Model \n",
        "from keras.applications.vgg19 import VGG19\n",
        "\n",
        "# Include top = add fully connected layers to layer.\n",
        "# Weights = use pretrained weights (trained in imagenet)\n",
        "vgg = VGG19(include_top=False,weights=\"imagenet\",input_shape=(48,48,3))\n",
        "\n",
        "vgg.summary()"
      ]
    },
    {
      "cell_type": "code",
      "source": [
        "model = keras.Sequential()\n",
        "\n",
        "# Adding layers to the blank model\n",
        "for layer in vgg.layers:\n",
        "    model.add(layer)\n",
        "    \n",
        "# Don't train layers again, because they are already trained\n",
        "for layer in model.layers:\n",
        "    layer.trainable = False\n",
        "    \n",
        "# Adding fully connected layers\n",
        "model.add(keras.layers.Flatten())\n",
        "model.add(keras.layers.Dense(128))\n",
        "model.add(keras.layers.Dense(10,activation=\"softmax\"))\n",
        "\n",
        "# Checking model\n",
        "model.summary()"
      ],
      "metadata": {
        "colab": {
          "base_uri": "https://localhost:8080/"
        },
        "id": "jpCtxkan5ZGG",
        "outputId": "f0adca6a-8bef-492a-8eb4-92d8f326fe1a"
      },
      "execution_count": 11,
      "outputs": [
        {
          "output_type": "stream",
          "name": "stdout",
          "text": [
            "Model: \"sequential\"\n",
            "_________________________________________________________________\n",
            " Layer (type)                Output Shape              Param #   \n",
            "=================================================================\n",
            " block1_conv1 (Conv2D)       (None, 48, 48, 64)        1792      \n",
            "                                                                 \n",
            " block1_conv2 (Conv2D)       (None, 48, 48, 64)        36928     \n",
            "                                                                 \n",
            " block1_pool (MaxPooling2D)  (None, 24, 24, 64)        0         \n",
            "                                                                 \n",
            " block2_conv1 (Conv2D)       (None, 24, 24, 128)       73856     \n",
            "                                                                 \n",
            " block2_conv2 (Conv2D)       (None, 24, 24, 128)       147584    \n",
            "                                                                 \n",
            " block2_pool (MaxPooling2D)  (None, 12, 12, 128)       0         \n",
            "                                                                 \n",
            " block3_conv1 (Conv2D)       (None, 12, 12, 256)       295168    \n",
            "                                                                 \n",
            " block3_conv2 (Conv2D)       (None, 12, 12, 256)       590080    \n",
            "                                                                 \n",
            " block3_conv3 (Conv2D)       (None, 12, 12, 256)       590080    \n",
            "                                                                 \n",
            " block3_conv4 (Conv2D)       (None, 12, 12, 256)       590080    \n",
            "                                                                 \n",
            " block3_pool (MaxPooling2D)  (None, 6, 6, 256)         0         \n",
            "                                                                 \n",
            " block4_conv1 (Conv2D)       (None, 6, 6, 512)         1180160   \n",
            "                                                                 \n",
            " block4_conv2 (Conv2D)       (None, 6, 6, 512)         2359808   \n",
            "                                                                 \n",
            " block4_conv3 (Conv2D)       (None, 6, 6, 512)         2359808   \n",
            "                                                                 \n",
            " block4_conv4 (Conv2D)       (None, 6, 6, 512)         2359808   \n",
            "                                                                 \n",
            " block4_pool (MaxPooling2D)  (None, 3, 3, 512)         0         \n",
            "                                                                 \n",
            " block5_conv1 (Conv2D)       (None, 3, 3, 512)         2359808   \n",
            "                                                                 \n",
            " block5_conv2 (Conv2D)       (None, 3, 3, 512)         2359808   \n",
            "                                                                 \n",
            " block5_conv3 (Conv2D)       (None, 3, 3, 512)         2359808   \n",
            "                                                                 \n",
            " block5_conv4 (Conv2D)       (None, 3, 3, 512)         2359808   \n",
            "                                                                 \n",
            " block5_pool (MaxPooling2D)  (None, 1, 1, 512)         0         \n",
            "                                                                 \n",
            " flatten (Flatten)           (None, 512)               0         \n",
            "                                                                 \n",
            " dense (Dense)               (None, 128)               65664     \n",
            "                                                                 \n",
            " dense_1 (Dense)             (None, 10)                1290      \n",
            "                                                                 \n",
            "=================================================================\n",
            "Total params: 20,091,338\n",
            "Trainable params: 66,954\n",
            "Non-trainable params: 20,024,384\n",
            "_________________________________________________________________\n"
          ]
        }
      ]
    },
    {
      "cell_type": "code",
      "source": [
        "#compile the model\n",
        "model.compile(optimizer=\"RMSprop\",loss=\"categorical_crossentropy\",metrics=[\"accuracy\"])\n",
        "\n",
        "# train.\n",
        "hist = model.fit(X_train,y_train,validation_split=0.15,epochs=5,batch_size=200)\n",
        "\n",
        "# We use %15 of the train set as validation set."
      ],
      "metadata": {
        "colab": {
          "base_uri": "https://localhost:8080/"
        },
        "id": "C8FPm2Oy58AI",
        "outputId": "87512eee-7096-4e27-8bda-cf73fad3e74b"
      },
      "execution_count": 17,
      "outputs": [
        {
          "output_type": "stream",
          "name": "stdout",
          "text": [
            "Epoch 1/5\n",
            "213/213 [==============================] - 1471s 7s/step - loss: 1.8765 - accuracy: 0.5442 - val_loss: 1.9432 - val_accuracy: 0.5036\n",
            "Epoch 2/5\n",
            "213/213 [==============================] - 1463s 7s/step - loss: 1.5484 - accuracy: 0.5577 - val_loss: 1.5370 - val_accuracy: 0.5424\n",
            "Epoch 3/5\n",
            "213/213 [==============================] - 1467s 7s/step - loss: 1.3610 - accuracy: 0.5705 - val_loss: 1.3413 - val_accuracy: 0.5700\n",
            "Epoch 4/5\n",
            "213/213 [==============================] - 1461s 7s/step - loss: 1.2512 - accuracy: 0.5842 - val_loss: 1.3003 - val_accuracy: 0.5747\n",
            "Epoch 5/5\n",
            "213/213 [==============================] - 1462s 7s/step - loss: 1.1953 - accuracy: 0.5942 - val_loss: 1.2797 - val_accuracy: 0.5753\n"
          ]
        }
      ]
    },
    {
      "cell_type": "code",
      "source": [
        "model.evaluate(X_test,y_test)"
      ],
      "metadata": {
        "colab": {
          "base_uri": "https://localhost:8080/"
        },
        "id": "TofWng3p1ZXU",
        "outputId": "cbdb886f-fd0c-4e16-8ffa-97b0518c0400"
      },
      "execution_count": 18,
      "outputs": [
        {
          "output_type": "stream",
          "name": "stdout",
          "text": [
            "313/313 [==============================] - 299s 956ms/step - loss: 1.2782 - accuracy: 0.5714\n"
          ]
        },
        {
          "output_type": "execute_result",
          "data": {
            "text/plain": [
              "[1.2782456874847412, 0.571399986743927]"
            ]
          },
          "metadata": {},
          "execution_count": 18
        }
      ]
    },
    {
      "cell_type": "markdown",
      "source": [
        "\n",
        "\n",
        "*   epoch: số lần train. Khi epoch tăng (giảm) thì số lần train sẽ tăng (giảm).\n",
        "*   batch_size: số lượng mẫu mỗi lần cập nhật gradient\n"
      ],
      "metadata": {
        "id": "5lIKgzcU0iHv"
      }
    }
  ],
  "metadata": {
    "colab": {
      "toc_visible": true,
      "provenance": [],
      "collapsed_sections": []
    },
    "kernelspec": {
      "display_name": "Python 3",
      "name": "python3"
    },
    "language_info": {
      "name": "python"
    }
  },
  "nbformat": 4,
  "nbformat_minor": 0
}